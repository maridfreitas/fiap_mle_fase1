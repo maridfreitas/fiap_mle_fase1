{
 "cells": [
  {
   "cell_type": "code",
   "execution_count": null,
   "id": "7ef1000c",
   "metadata": {
    "vscode": {
     "languageId": "plaintext"
    }
   },
   "outputs": [],
   "source": [
    "Aqui ficará o modelo de ML que fará a otimização dos vinhos e após criado será feito um '.pkl'"
   ]
  }
 ],
 "metadata": {
  "language_info": {
   "name": "python"
  }
 },
 "nbformat": 4,
 "nbformat_minor": 5
}
